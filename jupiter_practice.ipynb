{
 "cells": [
  {
   "cell_type": "code",
   "execution_count": 1,
   "id": "68ab876b",
   "metadata": {},
   "outputs": [],
   "source": [
    "#list of high schools\n",
    "\n",
    "high_schools = [\"Hernandez High School\", \"Figueroa High School\", \"Wilson High School\", \"Wright High School\"]"
   ]
  },
  {
   "cell_type": "code",
   "execution_count": 2,
   "id": "b82a8533",
   "metadata": {},
   "outputs": [
    {
     "name": "stdout",
     "output_type": "stream",
     "text": [
      "Hernandez High School\n",
      "Figueroa High School\n",
      "Wilson High School\n",
      "Wright High School\n"
     ]
    }
   ],
   "source": [
    "for school in high_schools:\n",
    "    print(school)\n",
    "    "
   ]
  },
  {
   "cell_type": "code",
   "execution_count": 3,
   "id": "e18b9a53",
   "metadata": {},
   "outputs": [
    {
     "name": "stdout",
     "output_type": "stream",
     "text": [
      "{'High School': 'Griffin', 'Type': 'District'}\n",
      "{'High School': 'Figueroa', 'Type': 'District'}\n",
      "{'High School': 'Wilson', 'Type': 'Charter'}\n",
      "{'High School': 'Wright', 'Type': 'Charter'}\n"
     ]
    }
   ],
   "source": [
    "# a dictionary of HS and the type of HS\n",
    "high_school_types = [\n",
    "                    {\"High School\":\"Griffin\",\"Type\":\"District\"},\n",
    "                    {\"High School\":\"Figueroa\",\"Type\":\"District\"},\n",
    "                    {\"High School\":\"Wilson\",\"Type\":\"Charter\"},\n",
    "                    {\"High School\":\"Wright\",\"Type\":\"Charter\"}\n",
    "                    ]\n",
    "for type in high_school_types:\n",
    "    print(type)"
   ]
  },
  {
   "cell_type": "code",
   "execution_count": null,
   "id": "8924e733",
   "metadata": {},
   "outputs": [],
   "source": []
  }
 ],
 "metadata": {
  "kernelspec": {
   "display_name": "PythonDAta",
   "language": "python",
   "name": "pythondata"
  },
  "language_info": {
   "codemirror_mode": {
    "name": "ipython",
    "version": 3
   },
   "file_extension": ".py",
   "mimetype": "text/x-python",
   "name": "python",
   "nbconvert_exporter": "python",
   "pygments_lexer": "ipython3",
   "version": "3.9.7"
  }
 },
 "nbformat": 4,
 "nbformat_minor": 5
}
